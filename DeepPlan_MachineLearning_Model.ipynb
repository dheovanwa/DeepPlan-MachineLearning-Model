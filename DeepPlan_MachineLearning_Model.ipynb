{
  "nbformat": 4,
  "nbformat_minor": 0,
  "metadata": {
    "colab": {
      "provenance": []
    },
    "kernelspec": {
      "name": "python3",
      "display_name": "Python 3"
    },
    "language_info": {
      "name": "python"
    }
  },
  "cells": [
    {
      "cell_type": "code",
      "execution_count": 42,
      "metadata": {
        "colab": {
          "base_uri": "https://localhost:8080/"
        },
        "id": "BwSBETwADkKW",
        "outputId": "4690eeb7-4fc7-4796-8322-1d8e8fecdb6b"
      },
      "outputs": [
        {
          "output_type": "stream",
          "name": "stdout",
          "text": [
            "fatal: destination path 'DeepPlan-MachineLearning-Model' already exists and is not an empty directory.\n"
          ]
        }
      ],
      "source": [
        "!git clone https://github.com/dheovanwa/DeepPlan-MachineLearning-Model.git"
      ]
    },
    {
      "cell_type": "code",
      "source": [],
      "metadata": {
        "id": "_uDINGCIDpl6"
      },
      "execution_count": 42,
      "outputs": []
    },
    {
      "cell_type": "markdown",
      "metadata": {
        "id": "05cb7fd7"
      },
      "source": [
        "# Task\n",
        "Create machine learning models for the labels 'biaya_akhir_riil_rp', 'durasi_akhir_riil_hari', 'profit_margin_riil_persen', 'terjadi_pembengkakan_biaya_signifikan', and 'terjadi_keterlambatan_signifikan' using the data from \"/content/DeepPlan-MachineLearning-Model/dataset_proyek_konstruksi.csv\"."
      ]
    },
    {
      "cell_type": "markdown",
      "metadata": {
        "id": "ffaa6e29"
      },
      "source": [
        "## Load the data\n",
        "\n",
        "### Subtask:\n",
        "Load the dataset from the provided CSV file into a pandas DataFrame.\n"
      ]
    },
    {
      "cell_type": "markdown",
      "metadata": {
        "id": "df9cf566"
      },
      "source": [
        "**Reasoning**:\n",
        "The first step is to load the data into a pandas DataFrame for further processing. This involves importing the pandas library and reading the CSV file.\n",
        "\n"
      ]
    },
    {
      "cell_type": "code",
      "metadata": {
        "colab": {
          "base_uri": "https://localhost:8080/",
          "height": 290
        },
        "id": "a69ad93d",
        "outputId": "a5778bcb-3a5a-4db3-9a23-08f1c50984c9"
      },
      "source": [
        "import pandas as pd\n",
        "\n",
        "df = pd.read_csv('/content/DeepPlan-MachineLearning-Model/dataset_proyek_konstruksi.csv')\n",
        "display(df.head())\n",
        "print(df.shape)"
      ],
      "execution_count": 43,
      "outputs": [
        {
          "output_type": "display_data",
          "data": {
            "text/plain": [
              "  project_id project_type      client_type contract_type  is_design_and_build  \\\n",
              "0     PJ-100    Perumahan             BUMN      Lump Sum                    1   \n",
              "1     PJ-101    Jalan Tol     Swasta Asing      Lump Sum                    0   \n",
              "2     PJ-102    Jalan Tol             BUMN     Cost Plus                    0   \n",
              "3     PJ-103  Jaringan IT     Swasta Asing     Cost Plus                    0   \n",
              "4     PJ-104    Perumahan  Swasta Nasional     Cost Plus                    0   \n",
              "\n",
              "   nilai_kontrak_awal_miliar_rp  total_jam_kerja_estimasi  \\\n",
              "0                         67.00                    268005   \n",
              "1                       2322.37                   4644734   \n",
              "2                       2089.79                   4179571   \n",
              "3                         38.56                    192819   \n",
              "4                        114.27                    457083   \n",
              "\n",
              "   volume_pekerjaan_tanah_m3  volume_beton_m3  berat_baja_struktural_ton  ...  \\\n",
              "0                      33500            16750                          0  ...   \n",
              "1                    6967101           464473                      23223  ...   \n",
              "2                    6269356           417957                      20897  ...   \n",
              "3                          0                0                          0  ...   \n",
              "4                      57135            28567                          0  ...   \n",
              "\n",
              "   indeks_harga_komoditas_saat_mulai  jumlah_kompetitor_saat_tender  \\\n",
              "0                             100.54                              4   \n",
              "1                             109.77                              8   \n",
              "2                             104.01                              9   \n",
              "3                             110.14                              6   \n",
              "4                             101.13                              5   \n",
              "\n",
              "   pengalaman_pm_tahun  jumlah_sdm_inti persentase_subkontraktor  \\\n",
              "0                   21               14                       50   \n",
              "1                   22              234                       38   \n",
              "2                    4              211                       40   \n",
              "3                   11               12                       62   \n",
              "4                   18               26                       38   \n",
              "\n",
              "  biaya_akhir_riil_miliar_rp durasi_akhir_riil_hari  \\\n",
              "0                      67.00                   3263   \n",
              "1                    2364.39                   3383   \n",
              "2                    1865.88                   4611   \n",
              "3                      40.83                   2738   \n",
              "4                     102.03                   2996   \n",
              "\n",
              "   profit_margin_riil_persen  terjadi_pembengkakan_biaya_signifikan  \\\n",
              "0                       0.00                                      1   \n",
              "1                      -1.81                                      1   \n",
              "2                      10.71                                      0   \n",
              "3                      -5.87                                      1   \n",
              "4                      10.71                                      0   \n",
              "\n",
              "   terjadi_keterlambatan_signifikan  \n",
              "0                                 0  \n",
              "1                                 0  \n",
              "2                                 1  \n",
              "3                                 0  \n",
              "4                                 0  \n",
              "\n",
              "[5 rows x 27 columns]"
            ],
            "text/html": [
              "\n",
              "  <div id=\"df-c0849b59-5d28-445a-886e-b5602d934f9e\" class=\"colab-df-container\">\n",
              "    <div>\n",
              "<style scoped>\n",
              "    .dataframe tbody tr th:only-of-type {\n",
              "        vertical-align: middle;\n",
              "    }\n",
              "\n",
              "    .dataframe tbody tr th {\n",
              "        vertical-align: top;\n",
              "    }\n",
              "\n",
              "    .dataframe thead th {\n",
              "        text-align: right;\n",
              "    }\n",
              "</style>\n",
              "<table border=\"1\" class=\"dataframe\">\n",
              "  <thead>\n",
              "    <tr style=\"text-align: right;\">\n",
              "      <th></th>\n",
              "      <th>project_id</th>\n",
              "      <th>project_type</th>\n",
              "      <th>client_type</th>\n",
              "      <th>contract_type</th>\n",
              "      <th>is_design_and_build</th>\n",
              "      <th>nilai_kontrak_awal_miliar_rp</th>\n",
              "      <th>total_jam_kerja_estimasi</th>\n",
              "      <th>volume_pekerjaan_tanah_m3</th>\n",
              "      <th>volume_beton_m3</th>\n",
              "      <th>berat_baja_struktural_ton</th>\n",
              "      <th>...</th>\n",
              "      <th>indeks_harga_komoditas_saat_mulai</th>\n",
              "      <th>jumlah_kompetitor_saat_tender</th>\n",
              "      <th>pengalaman_pm_tahun</th>\n",
              "      <th>jumlah_sdm_inti</th>\n",
              "      <th>persentase_subkontraktor</th>\n",
              "      <th>biaya_akhir_riil_miliar_rp</th>\n",
              "      <th>durasi_akhir_riil_hari</th>\n",
              "      <th>profit_margin_riil_persen</th>\n",
              "      <th>terjadi_pembengkakan_biaya_signifikan</th>\n",
              "      <th>terjadi_keterlambatan_signifikan</th>\n",
              "    </tr>\n",
              "  </thead>\n",
              "  <tbody>\n",
              "    <tr>\n",
              "      <th>0</th>\n",
              "      <td>PJ-100</td>\n",
              "      <td>Perumahan</td>\n",
              "      <td>BUMN</td>\n",
              "      <td>Lump Sum</td>\n",
              "      <td>1</td>\n",
              "      <td>67.00</td>\n",
              "      <td>268005</td>\n",
              "      <td>33500</td>\n",
              "      <td>16750</td>\n",
              "      <td>0</td>\n",
              "      <td>...</td>\n",
              "      <td>100.54</td>\n",
              "      <td>4</td>\n",
              "      <td>21</td>\n",
              "      <td>14</td>\n",
              "      <td>50</td>\n",
              "      <td>67.00</td>\n",
              "      <td>3263</td>\n",
              "      <td>0.00</td>\n",
              "      <td>1</td>\n",
              "      <td>0</td>\n",
              "    </tr>\n",
              "    <tr>\n",
              "      <th>1</th>\n",
              "      <td>PJ-101</td>\n",
              "      <td>Jalan Tol</td>\n",
              "      <td>Swasta Asing</td>\n",
              "      <td>Lump Sum</td>\n",
              "      <td>0</td>\n",
              "      <td>2322.37</td>\n",
              "      <td>4644734</td>\n",
              "      <td>6967101</td>\n",
              "      <td>464473</td>\n",
              "      <td>23223</td>\n",
              "      <td>...</td>\n",
              "      <td>109.77</td>\n",
              "      <td>8</td>\n",
              "      <td>22</td>\n",
              "      <td>234</td>\n",
              "      <td>38</td>\n",
              "      <td>2364.39</td>\n",
              "      <td>3383</td>\n",
              "      <td>-1.81</td>\n",
              "      <td>1</td>\n",
              "      <td>0</td>\n",
              "    </tr>\n",
              "    <tr>\n",
              "      <th>2</th>\n",
              "      <td>PJ-102</td>\n",
              "      <td>Jalan Tol</td>\n",
              "      <td>BUMN</td>\n",
              "      <td>Cost Plus</td>\n",
              "      <td>0</td>\n",
              "      <td>2089.79</td>\n",
              "      <td>4179571</td>\n",
              "      <td>6269356</td>\n",
              "      <td>417957</td>\n",
              "      <td>20897</td>\n",
              "      <td>...</td>\n",
              "      <td>104.01</td>\n",
              "      <td>9</td>\n",
              "      <td>4</td>\n",
              "      <td>211</td>\n",
              "      <td>40</td>\n",
              "      <td>1865.88</td>\n",
              "      <td>4611</td>\n",
              "      <td>10.71</td>\n",
              "      <td>0</td>\n",
              "      <td>1</td>\n",
              "    </tr>\n",
              "    <tr>\n",
              "      <th>3</th>\n",
              "      <td>PJ-103</td>\n",
              "      <td>Jaringan IT</td>\n",
              "      <td>Swasta Asing</td>\n",
              "      <td>Cost Plus</td>\n",
              "      <td>0</td>\n",
              "      <td>38.56</td>\n",
              "      <td>192819</td>\n",
              "      <td>0</td>\n",
              "      <td>0</td>\n",
              "      <td>0</td>\n",
              "      <td>...</td>\n",
              "      <td>110.14</td>\n",
              "      <td>6</td>\n",
              "      <td>11</td>\n",
              "      <td>12</td>\n",
              "      <td>62</td>\n",
              "      <td>40.83</td>\n",
              "      <td>2738</td>\n",
              "      <td>-5.87</td>\n",
              "      <td>1</td>\n",
              "      <td>0</td>\n",
              "    </tr>\n",
              "    <tr>\n",
              "      <th>4</th>\n",
              "      <td>PJ-104</td>\n",
              "      <td>Perumahan</td>\n",
              "      <td>Swasta Nasional</td>\n",
              "      <td>Cost Plus</td>\n",
              "      <td>0</td>\n",
              "      <td>114.27</td>\n",
              "      <td>457083</td>\n",
              "      <td>57135</td>\n",
              "      <td>28567</td>\n",
              "      <td>0</td>\n",
              "      <td>...</td>\n",
              "      <td>101.13</td>\n",
              "      <td>5</td>\n",
              "      <td>18</td>\n",
              "      <td>26</td>\n",
              "      <td>38</td>\n",
              "      <td>102.03</td>\n",
              "      <td>2996</td>\n",
              "      <td>10.71</td>\n",
              "      <td>0</td>\n",
              "      <td>0</td>\n",
              "    </tr>\n",
              "  </tbody>\n",
              "</table>\n",
              "<p>5 rows × 27 columns</p>\n",
              "</div>\n",
              "    <div class=\"colab-df-buttons\">\n",
              "\n",
              "  <div class=\"colab-df-container\">\n",
              "    <button class=\"colab-df-convert\" onclick=\"convertToInteractive('df-c0849b59-5d28-445a-886e-b5602d934f9e')\"\n",
              "            title=\"Convert this dataframe to an interactive table.\"\n",
              "            style=\"display:none;\">\n",
              "\n",
              "  <svg xmlns=\"http://www.w3.org/2000/svg\" height=\"24px\" viewBox=\"0 -960 960 960\">\n",
              "    <path d=\"M120-120v-720h720v720H120Zm60-500h600v-160H180v160Zm220 220h160v-160H400v160Zm0 220h160v-160H400v160ZM180-400h160v-160H180v160Zm440 0h160v-160H620v160ZM180-180h160v-160H180v160Zm440 0h160v-160H620v160Z\"/>\n",
              "  </svg>\n",
              "    </button>\n",
              "\n",
              "  <style>\n",
              "    .colab-df-container {\n",
              "      display:flex;\n",
              "      gap: 12px;\n",
              "    }\n",
              "\n",
              "    .colab-df-convert {\n",
              "      background-color: #E8F0FE;\n",
              "      border: none;\n",
              "      border-radius: 50%;\n",
              "      cursor: pointer;\n",
              "      display: none;\n",
              "      fill: #1967D2;\n",
              "      height: 32px;\n",
              "      padding: 0 0 0 0;\n",
              "      width: 32px;\n",
              "    }\n",
              "\n",
              "    .colab-df-convert:hover {\n",
              "      background-color: #E2EBFA;\n",
              "      box-shadow: 0px 1px 2px rgba(60, 64, 67, 0.3), 0px 1px 3px 1px rgba(60, 64, 67, 0.15);\n",
              "      fill: #174EA6;\n",
              "    }\n",
              "\n",
              "    .colab-df-buttons div {\n",
              "      margin-bottom: 4px;\n",
              "    }\n",
              "\n",
              "    [theme=dark] .colab-df-convert {\n",
              "      background-color: #3B4455;\n",
              "      fill: #D2E3FC;\n",
              "    }\n",
              "\n",
              "    [theme=dark] .colab-df-convert:hover {\n",
              "      background-color: #434B5C;\n",
              "      box-shadow: 0px 1px 3px 1px rgba(0, 0, 0, 0.15);\n",
              "      filter: drop-shadow(0px 1px 2px rgba(0, 0, 0, 0.3));\n",
              "      fill: #FFFFFF;\n",
              "    }\n",
              "  </style>\n",
              "\n",
              "    <script>\n",
              "      const buttonEl =\n",
              "        document.querySelector('#df-c0849b59-5d28-445a-886e-b5602d934f9e button.colab-df-convert');\n",
              "      buttonEl.style.display =\n",
              "        google.colab.kernel.accessAllowed ? 'block' : 'none';\n",
              "\n",
              "      async function convertToInteractive(key) {\n",
              "        const element = document.querySelector('#df-c0849b59-5d28-445a-886e-b5602d934f9e');\n",
              "        const dataTable =\n",
              "          await google.colab.kernel.invokeFunction('convertToInteractive',\n",
              "                                                    [key], {});\n",
              "        if (!dataTable) return;\n",
              "\n",
              "        const docLinkHtml = 'Like what you see? Visit the ' +\n",
              "          '<a target=\"_blank\" href=https://colab.research.google.com/notebooks/data_table.ipynb>data table notebook</a>'\n",
              "          + ' to learn more about interactive tables.';\n",
              "        element.innerHTML = '';\n",
              "        dataTable['output_type'] = 'display_data';\n",
              "        await google.colab.output.renderOutput(dataTable, element);\n",
              "        const docLink = document.createElement('div');\n",
              "        docLink.innerHTML = docLinkHtml;\n",
              "        element.appendChild(docLink);\n",
              "      }\n",
              "    </script>\n",
              "  </div>\n",
              "\n",
              "\n",
              "    <div id=\"df-9a95f9e2-19e9-4069-9aca-56574f18d5ee\">\n",
              "      <button class=\"colab-df-quickchart\" onclick=\"quickchart('df-9a95f9e2-19e9-4069-9aca-56574f18d5ee')\"\n",
              "                title=\"Suggest charts\"\n",
              "                style=\"display:none;\">\n",
              "\n",
              "<svg xmlns=\"http://www.w3.org/2000/svg\" height=\"24px\"viewBox=\"0 0 24 24\"\n",
              "     width=\"24px\">\n",
              "    <g>\n",
              "        <path d=\"M19 3H5c-1.1 0-2 .9-2 2v14c0 1.1.9 2 2 2h14c1.1 0 2-.9 2-2V5c0-1.1-.9-2-2-2zM9 17H7v-7h2v7zm4 0h-2V7h2v10zm4 0h-2v-4h2v4z\"/>\n",
              "    </g>\n",
              "</svg>\n",
              "      </button>\n",
              "\n",
              "<style>\n",
              "  .colab-df-quickchart {\n",
              "      --bg-color: #E8F0FE;\n",
              "      --fill-color: #1967D2;\n",
              "      --hover-bg-color: #E2EBFA;\n",
              "      --hover-fill-color: #174EA6;\n",
              "      --disabled-fill-color: #AAA;\n",
              "      --disabled-bg-color: #DDD;\n",
              "  }\n",
              "\n",
              "  [theme=dark] .colab-df-quickchart {\n",
              "      --bg-color: #3B4455;\n",
              "      --fill-color: #D2E3FC;\n",
              "      --hover-bg-color: #434B5C;\n",
              "      --hover-fill-color: #FFFFFF;\n",
              "      --disabled-bg-color: #3B4455;\n",
              "      --disabled-fill-color: #666;\n",
              "  }\n",
              "\n",
              "  .colab-df-quickchart {\n",
              "    background-color: var(--bg-color);\n",
              "    border: none;\n",
              "    border-radius: 50%;\n",
              "    cursor: pointer;\n",
              "    display: none;\n",
              "    fill: var(--fill-color);\n",
              "    height: 32px;\n",
              "    padding: 0;\n",
              "    width: 32px;\n",
              "  }\n",
              "\n",
              "  .colab-df-quickchart:hover {\n",
              "    background-color: var(--hover-bg-color);\n",
              "    box-shadow: 0 1px 2px rgba(60, 64, 67, 0.3), 0 1px 3px 1px rgba(60, 64, 67, 0.15);\n",
              "    fill: var(--button-hover-fill-color);\n",
              "  }\n",
              "\n",
              "  .colab-df-quickchart-complete:disabled,\n",
              "  .colab-df-quickchart-complete:disabled:hover {\n",
              "    background-color: var(--disabled-bg-color);\n",
              "    fill: var(--disabled-fill-color);\n",
              "    box-shadow: none;\n",
              "  }\n",
              "\n",
              "  .colab-df-spinner {\n",
              "    border: 2px solid var(--fill-color);\n",
              "    border-color: transparent;\n",
              "    border-bottom-color: var(--fill-color);\n",
              "    animation:\n",
              "      spin 1s steps(1) infinite;\n",
              "  }\n",
              "\n",
              "  @keyframes spin {\n",
              "    0% {\n",
              "      border-color: transparent;\n",
              "      border-bottom-color: var(--fill-color);\n",
              "      border-left-color: var(--fill-color);\n",
              "    }\n",
              "    20% {\n",
              "      border-color: transparent;\n",
              "      border-left-color: var(--fill-color);\n",
              "      border-top-color: var(--fill-color);\n",
              "    }\n",
              "    30% {\n",
              "      border-color: transparent;\n",
              "      border-left-color: var(--fill-color);\n",
              "      border-top-color: var(--fill-color);\n",
              "      border-right-color: var(--fill-color);\n",
              "    }\n",
              "    40% {\n",
              "      border-color: transparent;\n",
              "      border-right-color: var(--fill-color);\n",
              "      border-top-color: var(--fill-color);\n",
              "    }\n",
              "    60% {\n",
              "      border-color: transparent;\n",
              "      border-right-color: var(--fill-color);\n",
              "    }\n",
              "    80% {\n",
              "      border-color: transparent;\n",
              "      border-right-color: var(--fill-color);\n",
              "      border-bottom-color: var(--fill-color);\n",
              "    }\n",
              "    90% {\n",
              "      border-color: transparent;\n",
              "      border-bottom-color: var(--fill-color);\n",
              "    }\n",
              "  }\n",
              "</style>\n",
              "\n",
              "      <script>\n",
              "        async function quickchart(key) {\n",
              "          const quickchartButtonEl =\n",
              "            document.querySelector('#' + key + ' button');\n",
              "          quickchartButtonEl.disabled = true;  // To prevent multiple clicks.\n",
              "          quickchartButtonEl.classList.add('colab-df-spinner');\n",
              "          try {\n",
              "            const charts = await google.colab.kernel.invokeFunction(\n",
              "                'suggestCharts', [key], {});\n",
              "          } catch (error) {\n",
              "            console.error('Error during call to suggestCharts:', error);\n",
              "          }\n",
              "          quickchartButtonEl.classList.remove('colab-df-spinner');\n",
              "          quickchartButtonEl.classList.add('colab-df-quickchart-complete');\n",
              "        }\n",
              "        (() => {\n",
              "          let quickchartButtonEl =\n",
              "            document.querySelector('#df-9a95f9e2-19e9-4069-9aca-56574f18d5ee button');\n",
              "          quickchartButtonEl.style.display =\n",
              "            google.colab.kernel.accessAllowed ? 'block' : 'none';\n",
              "        })();\n",
              "      </script>\n",
              "    </div>\n",
              "\n",
              "    </div>\n",
              "  </div>\n"
            ],
            "application/vnd.google.colaboratory.intrinsic+json": {
              "type": "dataframe"
            }
          },
          "metadata": {}
        },
        {
          "output_type": "stream",
          "name": "stdout",
          "text": [
            "(1000, 27)\n"
          ]
        }
      ]
    },
    {
      "cell_type": "markdown",
      "metadata": {
        "id": "36f33dcb"
      },
      "source": [
        "## Data preprocessing\n",
        "\n",
        "### Subtask:\n",
        "Identify and handle missing values, encode categorical features, split the data into training and testing sets, and scale numerical features.\n"
      ]
    },
    {
      "cell_type": "markdown",
      "metadata": {
        "id": "d1758624"
      },
      "source": [
        "**Reasoning**:\n",
        "Check for missing values and display the columns with missing data and their counts.\n",
        "\n"
      ]
    },
    {
      "cell_type": "code",
      "metadata": {
        "colab": {
          "base_uri": "https://localhost:8080/"
        },
        "id": "9aec6f42",
        "outputId": "3c989e16-d3f6-415f-fdd3-2022ef051222"
      },
      "source": [
        "missing_values = df.isnull().sum()\n",
        "columns_with_missing_values = missing_values[missing_values > 0]\n",
        "print(\"Columns with missing values and their counts:\")\n",
        "print(columns_with_missing_values)"
      ],
      "execution_count": 44,
      "outputs": [
        {
          "output_type": "stream",
          "name": "stdout",
          "text": [
            "Columns with missing values and their counts:\n",
            "Series([], dtype: int64)\n"
          ]
        }
      ]
    },
    {
      "cell_type": "markdown",
      "metadata": {
        "id": "8aebabad"
      },
      "source": [
        "**Reasoning**:\n",
        "Since there are no missing values, proceed to identify and encode categorical features. Then, define features and targets, split the data, and scale numerical features for all five target variables.\n",
        "\n"
      ]
    },
    {
      "cell_type": "code",
      "metadata": {
        "colab": {
          "base_uri": "https://localhost:8080/"
        },
        "id": "d06a173c",
        "outputId": "e82ecab8-28e2-4ef1-8d40-fca4eb695965"
      },
      "source": [
        "from sklearn.model_selection import train_test_split\n",
        "from sklearn.preprocessing import StandardScaler, OneHotEncoder\n",
        "from sklearn.compose import ColumnTransformer\n",
        "from sklearn.pipeline import Pipeline\n",
        "\n",
        "# Identify categorical and numerical columns\n",
        "categorical_features = df.select_dtypes(include=['object', 'category']).columns.tolist()\n",
        "# Exclude the project_id as it's an identifier and not a feature\n",
        "categorical_features.remove('project_id')\n",
        "\n",
        "numerical_features = df.select_dtypes(include=['int64', 'float64']).columns.tolist()\n",
        "# Exclude the target variables and 'project_id' from numerical features\n",
        "target_variables = ['biaya_akhir_riil_miliar_rp', 'durasi_akhir_riil_hari', 'profit_margin_riil_persen', 'terjadi_pembengkakan_biaya_signifikan', 'terjadi_keterlambatan_signifikan']\n",
        "numerical_features = [col for col in numerical_features if col not in target_variables and col != 'project_id']\n",
        "\n",
        "# Create a column transformer for preprocessing\n",
        "preprocessor = ColumnTransformer(\n",
        "    transformers=[\n",
        "        ('num', StandardScaler(), numerical_features),\n",
        "        ('cat', OneHotEncoder(handle_unknown='ignore'), categorical_features)])\n",
        "\n",
        "# Define features (X)\n",
        "X = df.drop(columns=target_variables + ['project_id'])\n",
        "\n",
        "# Prepare data for each target variable\n",
        "X_train_dict = {}\n",
        "X_test_dict = {}\n",
        "y_train_dict = {}\n",
        "y_test_dict = {}\n",
        "\n",
        "for target in target_variables:\n",
        "    y = df[target]\n",
        "\n",
        "    # Split data\n",
        "    X_train, X_test, y_train, y_test = train_test_split(X, y, test_size=0.2, random_state=42)\n",
        "\n",
        "    # Apply preprocessing\n",
        "    X_train_processed = preprocessor.fit_transform(X_train)\n",
        "    X_test_processed = preprocessor.transform(X_test)\n",
        "\n",
        "    X_train_dict[target] = X_train_processed\n",
        "    X_test_dict[target] = X_test_processed\n",
        "    y_train_dict[target] = y_train\n",
        "    y_test_dict[target] = y_test\n",
        "\n",
        "print(\"Data preprocessing and splitting complete for all target variables.\")"
      ],
      "execution_count": 45,
      "outputs": [
        {
          "output_type": "stream",
          "name": "stdout",
          "text": [
            "Data preprocessing and splitting complete for all target variables.\n"
          ]
        }
      ]
    },
    {
      "cell_type": "markdown",
      "metadata": {
        "id": "8098fa2a"
      },
      "source": [
        "## Model selection\n",
        "\n",
        "### Subtask:\n",
        "Choose appropriate machine learning models for the given labels (which are a mix of regression and classification tasks).\n"
      ]
    },
    {
      "cell_type": "markdown",
      "metadata": {
        "id": "63acf5c4"
      },
      "source": [
        "**Reasoning**:\n",
        "Identify the data type of each target variable to determine if it's a regression or classification task.\n",
        "\n"
      ]
    },
    {
      "cell_type": "code",
      "metadata": {
        "colab": {
          "base_uri": "https://localhost:8080/"
        },
        "id": "d5037127",
        "outputId": "f7d79857-3444-4107-e953-2eb026c98186"
      },
      "source": [
        "# Identify the type of each target variable\n",
        "target_variables_types = {\n",
        "    'biaya_akhir_riil_miliar_rp': df['biaya_akhir_riil_miliar_rp'].dtype,\n",
        "    'durasi_akhir_riil_hari': df['durasi_akhir_riil_hari'].dtype,\n",
        "    'profit_margin_riil_persen': df['profit_margin_riil_persen'].dtype,\n",
        "    'terjadi_pembengkakan_biaya_signifikan': df['terjadi_pembengkakan_biaya_signifikan'].dtype,\n",
        "    'terjadi_keterlambatan_signifikan': df['terjadi_keterlambatan_signifikan'].dtype\n",
        "}\n",
        "\n",
        "print(\"Data types of target variables:\")\n",
        "print(target_variables_types)\n",
        "\n",
        "# Based on the data types, select appropriate model types\n",
        "selected_models = {}\n",
        "\n",
        "for target, dtype in target_variables_types.items():\n",
        "    if dtype == 'float64' or dtype == 'int64': # Assuming continuous for float and potentially continuous/regression for int\n",
        "        # Check if the variable is actually discrete (e.g., binary)\n",
        "        if len(df[target].unique()) <= 20: # Heuristic to check for discrete/classification\n",
        "             selected_models[target] = 'Classification'\n",
        "        else:\n",
        "             selected_models[target] = 'Regression'\n",
        "    else:\n",
        "        selected_models[target] = 'Unknown'\n",
        "\n",
        "print(\"\\nSelected model types for each target variable:\")\n",
        "print(selected_models)"
      ],
      "execution_count": 46,
      "outputs": [
        {
          "output_type": "stream",
          "name": "stdout",
          "text": [
            "Data types of target variables:\n",
            "{'biaya_akhir_riil_miliar_rp': dtype('float64'), 'durasi_akhir_riil_hari': dtype('int64'), 'profit_margin_riil_persen': dtype('float64'), 'terjadi_pembengkakan_biaya_signifikan': dtype('int64'), 'terjadi_keterlambatan_signifikan': dtype('int64')}\n",
            "\n",
            "Selected model types for each target variable:\n",
            "{'biaya_akhir_riil_miliar_rp': 'Regression', 'durasi_akhir_riil_hari': 'Regression', 'profit_margin_riil_persen': 'Regression', 'terjadi_pembengkakan_biaya_signifikan': 'Classification', 'terjadi_keterlambatan_signifikan': 'Classification'}\n"
          ]
        }
      ]
    },
    {
      "cell_type": "markdown",
      "metadata": {
        "id": "b95b39f8"
      },
      "source": [
        "## Model training\n",
        "\n",
        "### Subtask:\n",
        "Train the selected models on the training data.\n"
      ]
    },
    {
      "cell_type": "markdown",
      "metadata": {
        "id": "bca3cdb0"
      },
      "source": [
        "**Reasoning**:\n",
        "Iterate through the selected models, instantiate the appropriate model based on the type, train it using the processed training data, and store the trained model.\n",
        "\n"
      ]
    },
    {
      "cell_type": "code",
      "metadata": {
        "colab": {
          "base_uri": "https://localhost:8080/"
        },
        "id": "283660dc",
        "outputId": "6d3a298a-25d5-432f-ba41-e154279a0366"
      },
      "source": [
        "from sklearn.linear_model import LinearRegression, LogisticRegression\n",
        "from sklearn.ensemble import RandomForestRegressor, RandomForestClassifier, GradientBoostingRegressor\n",
        "\n",
        "trained_models = {}\n",
        "\n",
        "for target, model_type in selected_models.items():\n",
        "    if 'Regression' in model_type:\n",
        "        # Using RandomForestRegressor as a suitable regression model\n",
        "        if target in ['durasi_akhir_riil_hari', 'profit_margin_riil_persen']:\n",
        "            # Use GradientBoostingRegressor for targets with poor performance\n",
        "            model = GradientBoostingRegressor(random_state=42)\n",
        "        else:\n",
        "            # Keep RandomForestRegressor for other regression targets\n",
        "            model = RandomForestRegressor(random_state=42)\n",
        "    elif 'Classification' in model_type:\n",
        "        # Using LogisticRegression as a suitable classification model\n",
        "        model = LogisticRegression(random_state=42, max_iter=1000) # Increased max_iter for convergence\n",
        "    else:\n",
        "        print(f\"Unknown model type for target {target}. Skipping.\")\n",
        "        continue\n",
        "\n",
        "    print(f\"Training model for target: {target} with model type: {model_type}\")\n",
        "    model.fit(X_train_dict[target], y_train_dict[target])\n",
        "    trained_models[target] = model\n",
        "    print(f\"Training complete for {target}\")\n",
        "\n",
        "print(\"\\nAll selected models have been trained.\")"
      ],
      "execution_count": 47,
      "outputs": [
        {
          "output_type": "stream",
          "name": "stdout",
          "text": [
            "Training model for target: biaya_akhir_riil_miliar_rp with model type: Regression\n",
            "Training complete for biaya_akhir_riil_miliar_rp\n",
            "Training model for target: durasi_akhir_riil_hari with model type: Regression\n",
            "Training complete for durasi_akhir_riil_hari\n",
            "Training model for target: profit_margin_riil_persen with model type: Regression\n",
            "Training complete for profit_margin_riil_persen\n",
            "Training model for target: terjadi_pembengkakan_biaya_signifikan with model type: Classification\n",
            "Training complete for terjadi_pembengkakan_biaya_signifikan\n",
            "Training model for target: terjadi_keterlambatan_signifikan with model type: Classification\n",
            "Training complete for terjadi_keterlambatan_signifikan\n",
            "\n",
            "All selected models have been trained.\n"
          ]
        }
      ]
    },
    {
      "cell_type": "markdown",
      "metadata": {
        "id": "a943b9bf"
      },
      "source": [
        "## Model evaluation\n",
        "\n",
        "### Subtask:\n",
        "Evaluate the trained models using appropriate metrics for regression and classification tasks on the testing data.\n"
      ]
    },
    {
      "cell_type": "markdown",
      "metadata": {
        "id": "96b9a135"
      },
      "source": [
        "**Reasoning**:\n",
        "Import the necessary evaluation metrics for both regression and classification tasks.\n",
        "\n"
      ]
    },
    {
      "cell_type": "code",
      "metadata": {
        "id": "70dd1625"
      },
      "source": [
        "from sklearn.metrics import mean_squared_error, r2_score, accuracy_score, precision_score, recall_score, f1_score"
      ],
      "execution_count": 48,
      "outputs": []
    },
    {
      "cell_type": "markdown",
      "metadata": {
        "id": "c0e18c3f"
      },
      "source": [
        "**Reasoning**:\n",
        "Initialize a dictionary to store evaluation results and then iterate through the trained models to make predictions and evaluate them using appropriate metrics based on the model type.\n",
        "\n"
      ]
    },
    {
      "cell_type": "code",
      "metadata": {
        "colab": {
          "base_uri": "https://localhost:8080/"
        },
        "id": "9fa63701",
        "outputId": "d35bcf7f-95c0-42b4-cb08-970bbd7908af"
      },
      "source": [
        "evaluation_results = {}\n",
        "\n",
        "for target, model in trained_models.items():\n",
        "    print(f\"Evaluating model for target: {target}\")\n",
        "    X_test = X_test_dict[target]\n",
        "    y_test = y_test_dict[target]\n",
        "    y_pred = model.predict(X_test)\n",
        "\n",
        "    print(selected_models[target])\n",
        "\n",
        "    if 'Regression' in selected_models[target]:\n",
        "        mse = mean_squared_error(y_test, y_pred)\n",
        "        r2 = r2_score(y_test, y_pred)\n",
        "        evaluation_results[target] = {'MSE': mse, 'R-squared': r2}\n",
        "        print(f\"  MSE: {mse:.4f}, R-squared: {r2:.4f}\")\n",
        "    elif 'Classification' in selected_models[target]:\n",
        "        # For classification, predictions need to be discrete\n",
        "        y_pred_classified = (y_pred > 0.5).astype(int) # Thresholding for binary classification\n",
        "        accuracy = accuracy_score(y_test, y_pred_classified)\n",
        "        precision = precision_score(y_test, y_pred_classified)\n",
        "        recall = recall_score(y_test, y_pred_classified)\n",
        "        f1 = f1_score(y_test, y_pred_classified)\n",
        "        evaluation_results[target] = {'Accuracy': accuracy, 'Precision': precision, 'Recall': recall, 'F1-score': f1}\n",
        "        print(f\"  Accuracy: {accuracy:.4f}, Precision: {precision:.4f}, Recall: {recall:.4f}, F1-score: {f1:.4f}\")\n",
        "    else:\n",
        "        print(f\"  Unknown model type for target {target}. Skipping evaluation.\")\n",
        "\n",
        "print(\"\\nEvaluation complete for all models.\")"
      ],
      "execution_count": 49,
      "outputs": [
        {
          "output_type": "stream",
          "name": "stdout",
          "text": [
            "Evaluating model for target: biaya_akhir_riil_miliar_rp\n",
            "Regression\n",
            "  MSE: 10900.9310, R-squared: 0.9811\n",
            "Evaluating model for target: durasi_akhir_riil_hari\n",
            "Regression\n",
            "  MSE: 193702.4669, R-squared: 0.1956\n",
            "Evaluating model for target: profit_margin_riil_persen\n",
            "Regression\n",
            "  MSE: 89.6714, R-squared: 0.0708\n",
            "Evaluating model for target: terjadi_pembengkakan_biaya_signifikan\n",
            "Classification\n",
            "  Accuracy: 0.7100, Precision: 0.3571, Recall: 0.0926, F1-score: 0.1471\n",
            "Evaluating model for target: terjadi_keterlambatan_signifikan\n",
            "Classification\n",
            "  Accuracy: 0.6650, Precision: 0.4545, Recall: 0.2344, F1-score: 0.3093\n",
            "\n",
            "Evaluation complete for all models.\n"
          ]
        }
      ]
    },
    {
      "cell_type": "markdown",
      "metadata": {
        "id": "b466bb8e"
      },
      "source": [
        "## Predict\n",
        "\n",
        "### Subtask:\n",
        "Use the trained models to make predictions on the testing data.\n"
      ]
    },
    {
      "cell_type": "markdown",
      "metadata": {
        "id": "7c8d5a9a"
      },
      "source": [
        "**Reasoning**:\n",
        "Iterate through the trained models, retrieve the corresponding testing data, make predictions, and store them in a dictionary.\n",
        "\n"
      ]
    },
    {
      "cell_type": "code",
      "metadata": {
        "colab": {
          "base_uri": "https://localhost:8080/"
        },
        "id": "d8848a2d",
        "outputId": "3d7268e3-2e30-4ec4-d80a-c6b08e8106a0"
      },
      "source": [
        "predictions_dict = {}\n",
        "\n",
        "for target, model in trained_models.items():\n",
        "    print(f\"Making predictions for target: {target}\")\n",
        "    X_test = X_test_dict[target]\n",
        "    y_pred = model.predict(X_test)\n",
        "    predictions_dict[target] = y_pred\n",
        "    print(f\"Predictions made for {target}\")\n",
        "\n",
        "print(\"\\nPredictions have been made for all models.\")"
      ],
      "execution_count": 50,
      "outputs": [
        {
          "output_type": "stream",
          "name": "stdout",
          "text": [
            "Making predictions for target: biaya_akhir_riil_miliar_rp\n",
            "Predictions made for biaya_akhir_riil_miliar_rp\n",
            "Making predictions for target: durasi_akhir_riil_hari\n",
            "Predictions made for durasi_akhir_riil_hari\n",
            "Making predictions for target: profit_margin_riil_persen\n",
            "Predictions made for profit_margin_riil_persen\n",
            "Making predictions for target: terjadi_pembengkakan_biaya_signifikan\n",
            "Predictions made for terjadi_pembengkakan_biaya_signifikan\n",
            "Making predictions for target: terjadi_keterlambatan_signifikan\n",
            "Predictions made for terjadi_keterlambatan_signifikan\n",
            "\n",
            "Predictions have been made for all models.\n"
          ]
        }
      ]
    },
    {
      "cell_type": "markdown",
      "metadata": {
        "id": "60feb733"
      },
      "source": [
        "## Summary:\n",
        "\n",
        "### Data Analysis Key Findings\n",
        "\n",
        "*   The dataset contains 1000 rows and 27 columns and has no missing values.\n",
        "*   The target variables include three for regression ('biaya\\_akhir\\_riil\\_miliar\\_rp', 'durasi\\_akhir\\_riil\\_hari', 'profit\\_margin\\_riil\\_persen') and two for classification ('terjadi\\_pembengkakan\\_biaya\\_signifikan', 'terjadi\\_keterlambatan\\_signifikan').\n",
        "*   The data was successfully split into training and testing sets (80/20 split) for each target variable.\n",
        "*   Categorical features were one-hot encoded and numerical features were scaled using StandardScaler.\n",
        "*   RandomForestRegressor was used for the regression tasks and LogisticRegression for the classification tasks.\n",
        "*   Models for all five target variables were successfully trained.\n",
        "*   Model evaluation was performed, calculating MSE and R-squared for the regression tasks. Due to a potential issue in the evaluation code, regression metrics were displayed for all models, including those expected to be classification.\n",
        "*   Predictions were successfully generated for all target variables on the testing data.\n",
        "\n",
        "### Insights or Next Steps\n",
        "\n",
        "*   Verify and correct the evaluation metrics used for the classification models to ensure appropriate assessment of their performance (e.g., using accuracy, precision, recall, F1-score).\n",
        "*   Analyze the evaluation results to understand the performance of each model and identify potential areas for improvement, such as hyperparameter tuning or exploring different model architectures.\n"
      ]
    },
    {
      "cell_type": "code",
      "metadata": {
        "colab": {
          "base_uri": "https://localhost:8080/"
        },
        "id": "01dab7d5",
        "outputId": "ed466934-e49e-4c12-9c52-0d97e78b6c88"
      },
      "source": [
        "import pickle\n",
        "import os\n",
        "\n",
        "# Create a directory to save the models if it doesn't exist\n",
        "if not os.path.exists('trained_models'):\n",
        "    os.makedirs('trained_models')\n",
        "\n",
        "for target, model in trained_models.items():\n",
        "    filename = f'trained_models/{target}_model.pkl'\n",
        "    with open(filename, 'wb') as f:\n",
        "        pickle.dump(model, f)\n",
        "    print(f\"Model for {target} saved to {filename}\")\n",
        "\n",
        "print(\"\\nAll trained models have been saved.\")"
      ],
      "execution_count": 51,
      "outputs": [
        {
          "output_type": "stream",
          "name": "stdout",
          "text": [
            "Model for biaya_akhir_riil_miliar_rp saved to trained_models/biaya_akhir_riil_miliar_rp_model.pkl\n",
            "Model for durasi_akhir_riil_hari saved to trained_models/durasi_akhir_riil_hari_model.pkl\n",
            "Model for profit_margin_riil_persen saved to trained_models/profit_margin_riil_persen_model.pkl\n",
            "Model for terjadi_pembengkakan_biaya_signifikan saved to trained_models/terjadi_pembengkakan_biaya_signifikan_model.pkl\n",
            "Model for terjadi_keterlambatan_signifikan saved to trained_models/terjadi_keterlambatan_signifikan_model.pkl\n",
            "\n",
            "All trained models have been saved.\n"
          ]
        }
      ]
    }
  ]
}